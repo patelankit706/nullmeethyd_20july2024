{
 "cells": [
  {
   "cell_type": "code",
   "execution_count": null,
   "id": "86d8b01f-c80a-4a89-82cc-4a3be1474116",
   "metadata": {},
   "outputs": [],
   "source": [
    "!pip install --upgrade llama-index==0.9.14.post3 deeplake==3.8.8 openai==1.3.8 python-dotenv pandas==2.2.2"
   ]
  },
  {
   "cell_type": "code",
   "execution_count": 12,
   "id": "eb7366e8-e48b-4e1a-ad7e-98dd9dc2dcd7",
   "metadata": {},
   "outputs": [
    {
     "data": {
      "text/plain": [
       "True"
      ]
     },
     "execution_count": 12,
     "metadata": {},
     "output_type": "execute_result"
    }
   ],
   "source": [
    "from dotenv import load_dotenv\n",
    "load_dotenv(\"../.env\")"
   ]
  },
  {
   "cell_type": "code",
   "execution_count": 13,
   "id": "d3f924ea-7431-45b9-bb19-fb1d0e7c77c1",
   "metadata": {},
   "outputs": [
    {
     "name": "stderr",
     "output_type": "stream",
     "text": [
      "/home/patelankit706/anaconda3/envs/llm/lib/python3.10/site-packages/deeplake/util/check_latest_version.py:32: UserWarning: A newer version of deeplake (3.9.9) is available. It's recommended that you update to the latest version using `pip install -U deeplake`.\n",
      "  warnings.warn(\n"
     ]
    }
   ],
   "source": [
    "## load_document\n",
    "from llama_index.schema import Document\n",
    "\n",
    "with open(\"./data/zerodha_varsity_casestudy.txt\",'r') as f:\n",
    "    text = f.read()\n",
    "\n",
    "chapters =[Document(text=i.strip(), metadata={\"filename\":i.strip()[:i.strip().find(\"\\n\")]+\".txt\" , \"category\": \"finance\"})  for i in text.split(\"###\")]"
   ]
  },
  {
   "cell_type": "code",
   "execution_count": 15,
   "id": "8f608392-d0ef-4527-9f02-f8e49b0f6026",
   "metadata": {},
   "outputs": [],
   "source": [
    "from llama_index import ServiceContext\n",
    "\n",
    "service_context = ServiceContext.from_defaults(chunk_size=512, chunk_overlap=64)\n",
    "node_parser = service_context.node_parser\n",
    "\n",
    "nodes = node_parser.get_nodes_from_documents(chapters)"
   ]
  },
  {
   "cell_type": "code",
   "execution_count": 16,
   "id": "340694d6-5a23-449c-9357-fdc47d2ffd11",
   "metadata": {},
   "outputs": [],
   "source": [
    "from llama_index.embeddings.openai import OpenAIEmbedding\n",
    "embed_model = OpenAIEmbedding(\n",
    "    model=\"text-embedding-ada-002\",\n",
    ")"
   ]
  },
  {
   "cell_type": "code",
   "execution_count": 17,
   "id": "4e1106c2-04f3-4620-b116-9510aa9c4257",
   "metadata": {},
   "outputs": [
    {
     "name": "stdout",
     "output_type": "stream",
     "text": [
      "Deep Lake Dataset in hub://patelankit706/zerodha_varsity_qna already exists, loading from the storage\n"
     ]
    }
   ],
   "source": [
    "from llama_index.vector_stores import DeepLakeVectorStore\n",
    "\n",
    "my_activeloop_org_id = \"patelankit706\"\n",
    "my_activeloop_dataset_name = \"zerodha_varsity_qna\"\n",
    "dataset_path = f\"hub://{my_activeloop_org_id}/{my_activeloop_dataset_name}\"\n",
    "\n",
    "# Create an index over the documnts\n",
    "vector_store = DeepLakeVectorStore(dataset_path=dataset_path, overwrite=False, embedding_function=embed_model)"
   ]
  },
  {
   "cell_type": "code",
   "execution_count": 18,
   "id": "b5d90656-62a5-4cd7-a291-addf0093ae9e",
   "metadata": {},
   "outputs": [
    {
     "name": "stdout",
     "output_type": "stream",
     "text": [
      "Uploading data to deeplake dataset.\n"
     ]
    },
    {
     "name": "stderr",
     "output_type": "stream",
     "text": [
      "100%|█████████████████████████████████████████████████████████████████████████████████████| 3/3 [00:05<00:00,  1.92s/it]\n",
      "\\"
     ]
    },
    {
     "name": "stdout",
     "output_type": "stream",
     "text": [
      "Dataset(path='hub://patelankit706/zerodha_varsity_qna', tensors=['embedding', 'id', 'metadata', 'text'])\n",
      "\n",
      "  tensor      htype       shape      dtype  compression\n",
      "  -------    -------     -------    -------  ------- \n",
      " embedding  embedding  (218, 1536)  float32   None   \n",
      "    id        text      (218, 1)      str     None   \n",
      " metadata     json      (218, 1)      str     None   \n",
      "   text       text      (218, 1)      str     None   \n"
     ]
    },
    {
     "name": "stderr",
     "output_type": "stream",
     "text": [
      " \r"
     ]
    }
   ],
   "source": [
    "from llama_index.storage.storage_context import StorageContext\n",
    "from llama_index import VectorStoreIndex\n",
    "\n",
    "storage_context = StorageContext.from_defaults(vector_store=vector_store)\n",
    "storage_context.docstore.add_documents(nodes)\n",
    "vector_index = VectorStoreIndex(nodes, storage_context=storage_context)"
   ]
  },
  {
   "cell_type": "code",
   "execution_count": 8,
   "id": "d699f7ba-def5-4a9a-9e85-b0eabc45b8b7",
   "metadata": {},
   "outputs": [],
   "source": [
    "import time\n",
    "from typing import List\n",
    "\n",
    "from llama_index import (\n",
    "    PromptTemplate,\n",
    "    load_index_from_storage\n",
    ")\n",
    "from llama_index.llms.types import ChatMessage\n",
    "from llama_index.llms import OpenAI\n",
    "from llama_index.query_engine import CustomQueryEngine\n",
    "from llama_index.retrievers import BaseRetriever\n",
    "from pathlib import Path\n",
    "from llama_index.chat_engine.condense_question import (\n",
    "    CondenseQuestionChatEngine,\n",
    ")\n",
    "from llama_index.embeddings.openai import OpenAIEmbedding\n",
    "from llama_index.vector_stores import DeepLakeVectorStore\n",
    "from llama_index.storage.storage_context import StorageContext\n",
    "from llama_index import VectorStoreIndex"
   ]
  },
  {
   "cell_type": "code",
   "execution_count": 10,
   "id": "eb6c0460-2dda-4bc6-ad2a-430117422ea1",
   "metadata": {},
   "outputs": [],
   "source": [
    "text2=\"\"\"disabilities-policies\n",
    "Zerodha has specific policies and procedures in place to accommodate individuals with disabilities. Here’s a summary of the key points related to account opening for visually impaired or illiterate persons:\n",
    "\n",
    "1. Visually impaired and illiterate clients cannot open an account online.\n",
    "2. New accounts cannot be opened if the PAN is not linked with Aadhaar. Even if Aadhaar is successfully linked with PAN, it must still be updated in the IT records, which can take up to 7 working days.\n",
    "3. To open an account, the following documents must be filled out in the presence of a Zerodha representative:\n",
    "   - Equity application form\n",
    "   - Commodity application form\n",
    "   - Declaration form\n",
    "   - Vernacular risk disclosure document (RDD)\n",
    "   - Notarised Demat Debit and Pledge Instruction (DDPI).\n",
    "4. The thumb impression is used instead of signatures, with the left thumb for males and the right thumb for females.\n",
    "5. Notary or doctor’s attestation is required on the KYC page and on the PAN and address proof.\n",
    "6. The account opening charges are ₹500 towards Equity and Commodity trading account opening.\n",
    "7. The account will be opened within 72 working hours once the forms are delivered to Zerodha’s head office.\n",
    "For a detailed understanding of Zerodha’s policies and procedures, you can visit their official policies and procedures page. If you need further assistance or have specific requirements, it’s best to contact Zerodha directly to ensure all your needs are met.\"\"\""
   ]
  },
  {
   "cell_type": "code",
   "execution_count": null,
   "id": "147df88e-6ffb-43c0-9d35-66dcc86bcf01",
   "metadata": {},
   "outputs": [],
   "source": []
  }
 ],
 "metadata": {
  "kernelspec": {
   "display_name": "Python 3 (ipykernel)",
   "language": "python",
   "name": "python3"
  },
  "language_info": {
   "codemirror_mode": {
    "name": "ipython",
    "version": 3
   },
   "file_extension": ".py",
   "mimetype": "text/x-python",
   "name": "python",
   "nbconvert_exporter": "python",
   "pygments_lexer": "ipython3",
   "version": "3.10.14"
  }
 },
 "nbformat": 4,
 "nbformat_minor": 5
}
